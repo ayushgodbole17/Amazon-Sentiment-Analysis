{
  "cells": [
    {
      "cell_type": "code",
      "execution_count": 1,
      "id": "77b342a5",
      "metadata": {
        "id": "77b342a5"
      },
      "outputs": [],
      "source": [
        "import tensorflow as tf\n",
        "import tensorflow.keras as keras\n",
        "from tensorflow.keras import layers\n",
        "import pandas as pd\n",
        "import numpy as np\n",
        "import matplotlib.pyplot as plt\n",
        "import random\n",
        "from sklearn.model_selection import train_test_split\n",
        "\n",
        "#data: https://www.kaggle.com/datasets/bittlingmayer/amazonreviews"
      ]
    },
    {
      "cell_type": "code",
      "source": [
        "from google.colab import drive\n",
        "drive.mount('/content/drive')"
      ],
      "metadata": {
        "colab": {
          "base_uri": "https://localhost:8080/"
        },
        "id": "0--58bVCRNdm",
        "outputId": "7df553bf-aa8f-4ec3-cb73-4c8f86f32dd2"
      },
      "id": "0--58bVCRNdm",
      "execution_count": 2,
      "outputs": [
        {
          "output_type": "stream",
          "name": "stdout",
          "text": [
            "Drive already mounted at /content/drive; to attempt to forcibly remount, call drive.mount(\"/content/drive\", force_remount=True).\n"
          ]
        }
      ]
    },
    {
      "cell_type": "code",
      "execution_count": 3,
      "id": "0934c5da",
      "metadata": {
        "id": "0934c5da"
      },
      "outputs": [],
      "source": [
        "train_path = \"/content/drive/MyDrive/amazon-sentiment/train.ft.txt\"\n",
        "test_path = \"/content/drive/MyDrive/amazon-sentiment/test.ft.txt\""
      ]
    },
    {
      "cell_type": "code",
      "execution_count": 4,
      "id": "950bb34f",
      "metadata": {
        "id": "950bb34f"
      },
      "outputs": [],
      "source": [
        "with open (train_path, \"r\", encoding='utf8') as f:\n",
        "    lines = f.readlines()"
      ]
    },
    {
      "cell_type": "code",
      "execution_count": 5,
      "id": "e9b1eb50",
      "metadata": {
        "colab": {
          "base_uri": "https://localhost:8080/"
        },
        "id": "e9b1eb50",
        "outputId": "3a99a1b4-ac84-439f-fc75-769444ff0da0"
      },
      "outputs": [
        {
          "output_type": "stream",
          "name": "stdout",
          "text": [
            "__label__2 Stuning even for the non-gamer: This sound track was beautiful! It paints the senery in your mind so well I would recomend it even to people who hate vid. game music! I have played the game Chrono Cross but out of all of the games I have ever played it has the best music! It backs away from crude keyboarding and takes a fresher step with grate guitars and soulful orchestras. It would impress anyone who cares to listen! ^_^\n",
            "\n",
            "__label__2 The best soundtrack ever to anything.: I'm reading a lot of reviews saying that this is the best 'game soundtrack' and I figured that I'd write a review to disagree a bit. This in my opinino is Yasunori Mitsuda's ultimate masterpiece. The music is timeless and I'm been listening to it for years now and its beauty simply refuses to fade.The price tag on this is pretty staggering I must say, but if you are going to buy any cd for this much money, this is the only one that I feel would be worth every penny.\n",
            "\n",
            "__label__2 Amazing!: This soundtrack is my favorite music of all time, hands down. The intense sadness of \"Prisoners of Fate\" (which means all the more if you've played the game) and the hope in \"A Distant Promise\" and \"Girl who Stole the Star\" have been an important inspiration to me personally throughout my teen years. The higher energy tracks like \"Chrono Cross ~ Time's Scar~\", \"Time of the Dreamwatch\", and \"Chronomantique\" (indefinably remeniscent of Chrono Trigger) are all absolutely superb as well.This soundtrack is amazing music, probably the best of this composer's work (I haven't heard the Xenogears soundtrack, so I can't say for sure), and even if you've never played the game, it would be worth twice the price to buy it.I wish I could give it 6 stars.\n",
            "\n",
            "__label__2 Excellent Soundtrack: I truly like this soundtrack and I enjoy video game music. I have played this game and most of the music on here I enjoy and it's truly relaxing and peaceful.On disk one. my favorites are Scars Of Time, Between Life and Death, Forest Of Illusion, Fortress of Ancient Dragons, Lost Fragment, and Drowned Valley.Disk Two: The Draggons, Galdorb - Home, Chronomantique, Prisoners of Fate, Gale, and my girlfriend likes ZelbessDisk Three: The best of the three. Garden Of God, Chronopolis, Fates, Jellyfish sea, Burning Orphange, Dragon's Prayer, Tower Of Stars, Dragon God, and Radical Dreamers - Unstealable Jewel.Overall, this is a excellent soundtrack and should be brought by those that like video game music.Xander Cross\n",
            "\n",
            "__label__2 Remember, Pull Your Jaw Off The Floor After Hearing it: If you've played the game, you know how divine the music is! Every single song tells a story of the game, it's that good! The greatest songs are without a doubt, Chrono Cross: Time's Scar, Magical Dreamers: The Wind, The Stars, and the Sea and Radical Dreamers: Unstolen Jewel. (Translation varies) This music is perfect if you ask me, the best it can be. Yasunori Mitsuda just poured his heart on and wrote it down on paper.\n",
            "\n"
          ]
        }
      ],
      "source": [
        "for i in range (0, 5):\n",
        "    print(lines[i])"
      ]
    },
    {
      "cell_type": "code",
      "execution_count": 6,
      "id": "1dbb4d93",
      "metadata": {
        "colab": {
          "base_uri": "https://localhost:8080/"
        },
        "id": "1dbb4d93",
        "outputId": "dd949091-6bac-464e-f08f-85f054ced7bc"
      },
      "outputs": [
        {
          "output_type": "execute_result",
          "data": {
            "text/plain": [
              "3600000"
            ]
          },
          "metadata": {},
          "execution_count": 6
        }
      ],
      "source": [
        "len(lines)"
      ]
    },
    {
      "cell_type": "code",
      "execution_count": 7,
      "id": "a6b2bc97",
      "metadata": {
        "colab": {
          "base_uri": "https://localhost:8080/",
          "height": 35
        },
        "id": "a6b2bc97",
        "outputId": "9975e240-4bf6-46aa-c10d-30ffc0740a59"
      },
      "outputs": [
        {
          "output_type": "execute_result",
          "data": {
            "text/plain": [
              "'2'"
            ],
            "application/vnd.google.colaboratory.intrinsic+json": {
              "type": "string"
            }
          },
          "metadata": {},
          "execution_count": 7
        }
      ],
      "source": [
        "lines[1][9:10]"
      ]
    },
    {
      "cell_type": "code",
      "execution_count": 8,
      "id": "45f14d1f",
      "metadata": {
        "colab": {
          "base_uri": "https://localhost:8080/",
          "height": 140
        },
        "id": "45f14d1f",
        "outputId": "8d9ebe5e-3395-4b4a-d586-5762f85ddfc5"
      },
      "outputs": [
        {
          "output_type": "execute_result",
          "data": {
            "text/plain": [
              "'Amazing!: This soundtrack is my favorite music of all time, hands down. The intense sadness of \"Prisoners of Fate\" (which means all the more if you\\'ve played the game) and the hope in \"A Distant Promise\" and \"Girl who Stole the Star\" have been an important inspiration to me personally throughout my teen years. The higher energy tracks like \"Chrono Cross ~ Time\\'s Scar~\", \"Time of the Dreamwatch\", and \"Chronomantique\" (indefinably remeniscent of Chrono Trigger) are all absolutely superb as well.This soundtrack is amazing music, probably the best of this composer\\'s work (I haven\\'t heard the Xenogears soundtrack, so I can\\'t say for sure), and even if you\\'ve never played the game, it would be worth twice the price to buy it.I wish I could give it 6 stars'"
            ],
            "application/vnd.google.colaboratory.intrinsic+json": {
              "type": "string"
            }
          },
          "metadata": {},
          "execution_count": 8
        }
      ],
      "source": [
        "lines[2][11:-2]"
      ]
    },
    {
      "cell_type": "code",
      "execution_count": 9,
      "id": "87e4f634",
      "metadata": {
        "id": "87e4f634"
      },
      "outputs": [],
      "source": [
        "reviews = []     #A list to store reviews\n",
        "ratings = []     #A list to store ratings\n",
        "\n",
        "random.Random(1704).shuffle(lines)"
      ]
    },
    {
      "cell_type": "code",
      "execution_count": 10,
      "id": "4b87ab72",
      "metadata": {
        "id": "4b87ab72"
      },
      "outputs": [],
      "source": [
        "for i in range(int(0.1*len(lines))):\n",
        "    ratings.append(lines[i][9:10])\n",
        "    reviews.append(lines[i][11:-2])"
      ]
    },
    {
      "cell_type": "code",
      "execution_count": 11,
      "id": "eec4e81c",
      "metadata": {
        "colab": {
          "base_uri": "https://localhost:8080/"
        },
        "id": "eec4e81c",
        "outputId": "41da2718-3ca5-4395-f478-82cdc809e219"
      },
      "outputs": [
        {
          "output_type": "stream",
          "name": "stdout",
          "text": [
            "Mean Length of review 430.3313972222222\n",
            "Longest review:  1014 \n",
            "Shortest Review 71\n"
          ]
        }
      ],
      "source": [
        "type(reviews)\n",
        "length=[]\n",
        "for i in reviews:\n",
        "    length.append(len(i))\n",
        "print(\"Mean Length of review\", sum(length)/len(length))\n",
        "print(\"Longest review: \", max(length), \"\\nShortest Review\", min(length))"
      ]
    },
    {
      "cell_type": "code",
      "execution_count": 12,
      "id": "6062e8ef",
      "metadata": {
        "colab": {
          "base_uri": "https://localhost:8080/"
        },
        "id": "6062e8ef",
        "outputId": "5bf9e46c-b19b-4713-b9c1-00d02b30637c"
      },
      "outputs": [
        {
          "output_type": "execute_result",
          "data": {
            "text/plain": [
              "str"
            ]
          },
          "metadata": {},
          "execution_count": 12
        }
      ],
      "source": [
        "type(reviews[1])"
      ]
    },
    {
      "cell_type": "code",
      "execution_count": 13,
      "id": "9f664fb6",
      "metadata": {
        "colab": {
          "base_uri": "https://localhost:8080/"
        },
        "id": "9f664fb6",
        "outputId": "960fe0d1-712f-42a1-e3f3-50923446fa63"
      },
      "outputs": [
        {
          "output_type": "execute_result",
          "data": {
            "text/plain": [
              "str"
            ]
          },
          "metadata": {},
          "execution_count": 13
        }
      ],
      "source": [
        "type(ratings[1])"
      ]
    },
    {
      "cell_type": "code",
      "execution_count": 14,
      "id": "fd5e9e0b",
      "metadata": {
        "id": "fd5e9e0b"
      },
      "outputs": [],
      "source": [
        "for i in range(len(ratings)):\n",
        "    ratings[i] = int(ratings[i]) #Converting datatype of ratings from str to int\n",
        "    ratings[i] = ratings[i] - 1  #Converting 1,2 for negative and positive to 0,1 for negative and positive"
      ]
    },
    {
      "cell_type": "code",
      "execution_count": 15,
      "id": "6a02d813",
      "metadata": {
        "colab": {
          "base_uri": "https://localhost:8080/"
        },
        "id": "6a02d813",
        "outputId": "b0c22da0-e585-4cc9-b4cb-b58352c21250"
      },
      "outputs": [
        {
          "output_type": "execute_result",
          "data": {
            "text/plain": [
              "int"
            ]
          },
          "metadata": {},
          "execution_count": 15
        }
      ],
      "source": [
        "type(ratings[1])"
      ]
    },
    {
      "cell_type": "code",
      "execution_count": 16,
      "id": "e99f7477",
      "metadata": {
        "colab": {
          "base_uri": "https://localhost:8080/"
        },
        "id": "e99f7477",
        "outputId": "90d0f0db-b378-4c7e-830a-5a2e86c8de48"
      },
      "outputs": [
        {
          "output_type": "execute_result",
          "data": {
            "text/plain": [
              "[1, 0, 0, 1, 1, 0, 1, 1, 0]"
            ]
          },
          "metadata": {},
          "execution_count": 16
        }
      ],
      "source": [
        "ratings[1:10]"
      ]
    },
    {
      "cell_type": "code",
      "execution_count": 17,
      "id": "35f8be17",
      "metadata": {
        "id": "35f8be17"
      },
      "outputs": [],
      "source": [
        "dataset = {'reviews': reviews, 'ratings': ratings}\n",
        "dataset = pd.DataFrame(dataset)"
      ]
    },
    {
      "cell_type": "code",
      "execution_count": 18,
      "id": "e5366f30",
      "metadata": {
        "colab": {
          "base_uri": "https://localhost:8080/",
          "height": 424
        },
        "id": "e5366f30",
        "outputId": "74cf2d56-aade-42ef-fb0d-94b44f02ae5a"
      },
      "outputs": [
        {
          "output_type": "execute_result",
          "data": {
            "text/plain": [
              "                                                  reviews  ratings\n",
              "0       easily the best book about Citizen Kane!: Carr...        1\n",
              "1       The best Modern Greek dictionary around: i thi...        1\n",
              "2       The Mermaid Chair- Not all that great: Okay, I...        0\n",
              "3       My head still hurts.: I particularly loved the...        0\n",
              "4       Twinings pulled off a miracle!: I'm a devout n...        1\n",
              "...                                                   ...      ...\n",
              "359995  Action packed!!!: Iron Man (Single-Disc Editio...        1\n",
              "359996  \"Wonderful\": \"OMG\", This is by far the best pr...        1\n",
              "359997  Mankind versus me...: This is the best ska roc...        1\n",
              "359998  Masterpiece or Mess?: When I saw \"AI\" in the m...        0\n",
              "359999  Very inaccurate depiction: I've have studied t...        0\n",
              "\n",
              "[360000 rows x 2 columns]"
            ],
            "text/html": [
              "\n",
              "  <div id=\"df-7dae1528-57c5-4eea-a422-77e7704fc8b0\">\n",
              "    <div class=\"colab-df-container\">\n",
              "      <div>\n",
              "<style scoped>\n",
              "    .dataframe tbody tr th:only-of-type {\n",
              "        vertical-align: middle;\n",
              "    }\n",
              "\n",
              "    .dataframe tbody tr th {\n",
              "        vertical-align: top;\n",
              "    }\n",
              "\n",
              "    .dataframe thead th {\n",
              "        text-align: right;\n",
              "    }\n",
              "</style>\n",
              "<table border=\"1\" class=\"dataframe\">\n",
              "  <thead>\n",
              "    <tr style=\"text-align: right;\">\n",
              "      <th></th>\n",
              "      <th>reviews</th>\n",
              "      <th>ratings</th>\n",
              "    </tr>\n",
              "  </thead>\n",
              "  <tbody>\n",
              "    <tr>\n",
              "      <th>0</th>\n",
              "      <td>easily the best book about Citizen Kane!: Carr...</td>\n",
              "      <td>1</td>\n",
              "    </tr>\n",
              "    <tr>\n",
              "      <th>1</th>\n",
              "      <td>The best Modern Greek dictionary around: i thi...</td>\n",
              "      <td>1</td>\n",
              "    </tr>\n",
              "    <tr>\n",
              "      <th>2</th>\n",
              "      <td>The Mermaid Chair- Not all that great: Okay, I...</td>\n",
              "      <td>0</td>\n",
              "    </tr>\n",
              "    <tr>\n",
              "      <th>3</th>\n",
              "      <td>My head still hurts.: I particularly loved the...</td>\n",
              "      <td>0</td>\n",
              "    </tr>\n",
              "    <tr>\n",
              "      <th>4</th>\n",
              "      <td>Twinings pulled off a miracle!: I'm a devout n...</td>\n",
              "      <td>1</td>\n",
              "    </tr>\n",
              "    <tr>\n",
              "      <th>...</th>\n",
              "      <td>...</td>\n",
              "      <td>...</td>\n",
              "    </tr>\n",
              "    <tr>\n",
              "      <th>359995</th>\n",
              "      <td>Action packed!!!: Iron Man (Single-Disc Editio...</td>\n",
              "      <td>1</td>\n",
              "    </tr>\n",
              "    <tr>\n",
              "      <th>359996</th>\n",
              "      <td>\"Wonderful\": \"OMG\", This is by far the best pr...</td>\n",
              "      <td>1</td>\n",
              "    </tr>\n",
              "    <tr>\n",
              "      <th>359997</th>\n",
              "      <td>Mankind versus me...: This is the best ska roc...</td>\n",
              "      <td>1</td>\n",
              "    </tr>\n",
              "    <tr>\n",
              "      <th>359998</th>\n",
              "      <td>Masterpiece or Mess?: When I saw \"AI\" in the m...</td>\n",
              "      <td>0</td>\n",
              "    </tr>\n",
              "    <tr>\n",
              "      <th>359999</th>\n",
              "      <td>Very inaccurate depiction: I've have studied t...</td>\n",
              "      <td>0</td>\n",
              "    </tr>\n",
              "  </tbody>\n",
              "</table>\n",
              "<p>360000 rows × 2 columns</p>\n",
              "</div>\n",
              "      <button class=\"colab-df-convert\" onclick=\"convertToInteractive('df-7dae1528-57c5-4eea-a422-77e7704fc8b0')\"\n",
              "              title=\"Convert this dataframe to an interactive table.\"\n",
              "              style=\"display:none;\">\n",
              "        \n",
              "  <svg xmlns=\"http://www.w3.org/2000/svg\" height=\"24px\"viewBox=\"0 0 24 24\"\n",
              "       width=\"24px\">\n",
              "    <path d=\"M0 0h24v24H0V0z\" fill=\"none\"/>\n",
              "    <path d=\"M18.56 5.44l.94 2.06.94-2.06 2.06-.94-2.06-.94-.94-2.06-.94 2.06-2.06.94zm-11 1L8.5 8.5l.94-2.06 2.06-.94-2.06-.94L8.5 2.5l-.94 2.06-2.06.94zm10 10l.94 2.06.94-2.06 2.06-.94-2.06-.94-.94-2.06-.94 2.06-2.06.94z\"/><path d=\"M17.41 7.96l-1.37-1.37c-.4-.4-.92-.59-1.43-.59-.52 0-1.04.2-1.43.59L10.3 9.45l-7.72 7.72c-.78.78-.78 2.05 0 2.83L4 21.41c.39.39.9.59 1.41.59.51 0 1.02-.2 1.41-.59l7.78-7.78 2.81-2.81c.8-.78.8-2.07 0-2.86zM5.41 20L4 18.59l7.72-7.72 1.47 1.35L5.41 20z\"/>\n",
              "  </svg>\n",
              "      </button>\n",
              "      \n",
              "  <style>\n",
              "    .colab-df-container {\n",
              "      display:flex;\n",
              "      flex-wrap:wrap;\n",
              "      gap: 12px;\n",
              "    }\n",
              "\n",
              "    .colab-df-convert {\n",
              "      background-color: #E8F0FE;\n",
              "      border: none;\n",
              "      border-radius: 50%;\n",
              "      cursor: pointer;\n",
              "      display: none;\n",
              "      fill: #1967D2;\n",
              "      height: 32px;\n",
              "      padding: 0 0 0 0;\n",
              "      width: 32px;\n",
              "    }\n",
              "\n",
              "    .colab-df-convert:hover {\n",
              "      background-color: #E2EBFA;\n",
              "      box-shadow: 0px 1px 2px rgba(60, 64, 67, 0.3), 0px 1px 3px 1px rgba(60, 64, 67, 0.15);\n",
              "      fill: #174EA6;\n",
              "    }\n",
              "\n",
              "    [theme=dark] .colab-df-convert {\n",
              "      background-color: #3B4455;\n",
              "      fill: #D2E3FC;\n",
              "    }\n",
              "\n",
              "    [theme=dark] .colab-df-convert:hover {\n",
              "      background-color: #434B5C;\n",
              "      box-shadow: 0px 1px 3px 1px rgba(0, 0, 0, 0.15);\n",
              "      filter: drop-shadow(0px 1px 2px rgba(0, 0, 0, 0.3));\n",
              "      fill: #FFFFFF;\n",
              "    }\n",
              "  </style>\n",
              "\n",
              "      <script>\n",
              "        const buttonEl =\n",
              "          document.querySelector('#df-7dae1528-57c5-4eea-a422-77e7704fc8b0 button.colab-df-convert');\n",
              "        buttonEl.style.display =\n",
              "          google.colab.kernel.accessAllowed ? 'block' : 'none';\n",
              "\n",
              "        async function convertToInteractive(key) {\n",
              "          const element = document.querySelector('#df-7dae1528-57c5-4eea-a422-77e7704fc8b0');\n",
              "          const dataTable =\n",
              "            await google.colab.kernel.invokeFunction('convertToInteractive',\n",
              "                                                     [key], {});\n",
              "          if (!dataTable) return;\n",
              "\n",
              "          const docLinkHtml = 'Like what you see? Visit the ' +\n",
              "            '<a target=\"_blank\" href=https://colab.research.google.com/notebooks/data_table.ipynb>data table notebook</a>'\n",
              "            + ' to learn more about interactive tables.';\n",
              "          element.innerHTML = '';\n",
              "          dataTable['output_type'] = 'display_data';\n",
              "          await google.colab.output.renderOutput(dataTable, element);\n",
              "          const docLink = document.createElement('div');\n",
              "          docLink.innerHTML = docLinkHtml;\n",
              "          element.appendChild(docLink);\n",
              "        }\n",
              "      </script>\n",
              "    </div>\n",
              "  </div>\n",
              "  "
            ]
          },
          "metadata": {},
          "execution_count": 18
        }
      ],
      "source": [
        "dataset"
      ]
    },
    {
      "cell_type": "code",
      "execution_count": 19,
      "id": "e816168e",
      "metadata": {
        "colab": {
          "base_uri": "https://localhost:8080/",
          "height": 143
        },
        "id": "e816168e",
        "outputId": "93261728-47ee-4c55-b7e5-11559b48c6d0"
      },
      "outputs": [
        {
          "output_type": "execute_result",
          "data": {
            "text/plain": [
              "         reviews\n",
              "ratings         \n",
              "0         179787\n",
              "1         180213"
            ],
            "text/html": [
              "\n",
              "  <div id=\"df-c62aab75-1e3f-41a5-a3c0-75789100fed1\">\n",
              "    <div class=\"colab-df-container\">\n",
              "      <div>\n",
              "<style scoped>\n",
              "    .dataframe tbody tr th:only-of-type {\n",
              "        vertical-align: middle;\n",
              "    }\n",
              "\n",
              "    .dataframe tbody tr th {\n",
              "        vertical-align: top;\n",
              "    }\n",
              "\n",
              "    .dataframe thead th {\n",
              "        text-align: right;\n",
              "    }\n",
              "</style>\n",
              "<table border=\"1\" class=\"dataframe\">\n",
              "  <thead>\n",
              "    <tr style=\"text-align: right;\">\n",
              "      <th></th>\n",
              "      <th>reviews</th>\n",
              "    </tr>\n",
              "    <tr>\n",
              "      <th>ratings</th>\n",
              "      <th></th>\n",
              "    </tr>\n",
              "  </thead>\n",
              "  <tbody>\n",
              "    <tr>\n",
              "      <th>0</th>\n",
              "      <td>179787</td>\n",
              "    </tr>\n",
              "    <tr>\n",
              "      <th>1</th>\n",
              "      <td>180213</td>\n",
              "    </tr>\n",
              "  </tbody>\n",
              "</table>\n",
              "</div>\n",
              "      <button class=\"colab-df-convert\" onclick=\"convertToInteractive('df-c62aab75-1e3f-41a5-a3c0-75789100fed1')\"\n",
              "              title=\"Convert this dataframe to an interactive table.\"\n",
              "              style=\"display:none;\">\n",
              "        \n",
              "  <svg xmlns=\"http://www.w3.org/2000/svg\" height=\"24px\"viewBox=\"0 0 24 24\"\n",
              "       width=\"24px\">\n",
              "    <path d=\"M0 0h24v24H0V0z\" fill=\"none\"/>\n",
              "    <path d=\"M18.56 5.44l.94 2.06.94-2.06 2.06-.94-2.06-.94-.94-2.06-.94 2.06-2.06.94zm-11 1L8.5 8.5l.94-2.06 2.06-.94-2.06-.94L8.5 2.5l-.94 2.06-2.06.94zm10 10l.94 2.06.94-2.06 2.06-.94-2.06-.94-.94-2.06-.94 2.06-2.06.94z\"/><path d=\"M17.41 7.96l-1.37-1.37c-.4-.4-.92-.59-1.43-.59-.52 0-1.04.2-1.43.59L10.3 9.45l-7.72 7.72c-.78.78-.78 2.05 0 2.83L4 21.41c.39.39.9.59 1.41.59.51 0 1.02-.2 1.41-.59l7.78-7.78 2.81-2.81c.8-.78.8-2.07 0-2.86zM5.41 20L4 18.59l7.72-7.72 1.47 1.35L5.41 20z\"/>\n",
              "  </svg>\n",
              "      </button>\n",
              "      \n",
              "  <style>\n",
              "    .colab-df-container {\n",
              "      display:flex;\n",
              "      flex-wrap:wrap;\n",
              "      gap: 12px;\n",
              "    }\n",
              "\n",
              "    .colab-df-convert {\n",
              "      background-color: #E8F0FE;\n",
              "      border: none;\n",
              "      border-radius: 50%;\n",
              "      cursor: pointer;\n",
              "      display: none;\n",
              "      fill: #1967D2;\n",
              "      height: 32px;\n",
              "      padding: 0 0 0 0;\n",
              "      width: 32px;\n",
              "    }\n",
              "\n",
              "    .colab-df-convert:hover {\n",
              "      background-color: #E2EBFA;\n",
              "      box-shadow: 0px 1px 2px rgba(60, 64, 67, 0.3), 0px 1px 3px 1px rgba(60, 64, 67, 0.15);\n",
              "      fill: #174EA6;\n",
              "    }\n",
              "\n",
              "    [theme=dark] .colab-df-convert {\n",
              "      background-color: #3B4455;\n",
              "      fill: #D2E3FC;\n",
              "    }\n",
              "\n",
              "    [theme=dark] .colab-df-convert:hover {\n",
              "      background-color: #434B5C;\n",
              "      box-shadow: 0px 1px 3px 1px rgba(0, 0, 0, 0.15);\n",
              "      filter: drop-shadow(0px 1px 2px rgba(0, 0, 0, 0.3));\n",
              "      fill: #FFFFFF;\n",
              "    }\n",
              "  </style>\n",
              "\n",
              "      <script>\n",
              "        const buttonEl =\n",
              "          document.querySelector('#df-c62aab75-1e3f-41a5-a3c0-75789100fed1 button.colab-df-convert');\n",
              "        buttonEl.style.display =\n",
              "          google.colab.kernel.accessAllowed ? 'block' : 'none';\n",
              "\n",
              "        async function convertToInteractive(key) {\n",
              "          const element = document.querySelector('#df-c62aab75-1e3f-41a5-a3c0-75789100fed1');\n",
              "          const dataTable =\n",
              "            await google.colab.kernel.invokeFunction('convertToInteractive',\n",
              "                                                     [key], {});\n",
              "          if (!dataTable) return;\n",
              "\n",
              "          const docLinkHtml = 'Like what you see? Visit the ' +\n",
              "            '<a target=\"_blank\" href=https://colab.research.google.com/notebooks/data_table.ipynb>data table notebook</a>'\n",
              "            + ' to learn more about interactive tables.';\n",
              "          element.innerHTML = '';\n",
              "          dataTable['output_type'] = 'display_data';\n",
              "          await google.colab.output.renderOutput(dataTable, element);\n",
              "          const docLink = document.createElement('div');\n",
              "          docLink.innerHTML = docLinkHtml;\n",
              "          element.appendChild(docLink);\n",
              "        }\n",
              "      </script>\n",
              "    </div>\n",
              "  </div>\n",
              "  "
            ]
          },
          "metadata": {},
          "execution_count": 19
        }
      ],
      "source": [
        "dataset.groupby(['ratings']).count()"
      ]
    },
    {
      "cell_type": "code",
      "execution_count": 20,
      "id": "3e94dd65",
      "metadata": {
        "colab": {
          "base_uri": "https://localhost:8080/"
        },
        "id": "3e94dd65",
        "outputId": "a076d4fc-c363-4847-e1f7-c23f0fca8b77"
      },
      "outputs": [
        {
          "output_type": "execute_result",
          "data": {
            "text/plain": [
              "reviews    object\n",
              "ratings     int64\n",
              "dtype: object"
            ]
          },
          "metadata": {},
          "execution_count": 20
        }
      ],
      "source": [
        "dataset.dtypes"
      ]
    },
    {
      "cell_type": "code",
      "execution_count": 21,
      "id": "9f59ed8d",
      "metadata": {
        "colab": {
          "base_uri": "https://localhost:8080/",
          "height": 53
        },
        "id": "9f59ed8d",
        "outputId": "67afe17b-1704-4043-d1d6-249b89b8933e"
      },
      "outputs": [
        {
          "output_type": "execute_result",
          "data": {
            "text/plain": [
              "\"summarized = []\\n\\nfor i in range(len(reviews)):\\n    body = reviews[i]\\n    bert_model = Summarizer()\\n    bert_summary = ''.join(bert_model(body, min_length=60))\\n    summarized.append(bert_summary)\\n    \\n\""
            ],
            "application/vnd.google.colaboratory.intrinsic+json": {
              "type": "string"
            }
          },
          "metadata": {},
          "execution_count": 21
        }
      ],
      "source": [
        "#Following code can be run, and the summarized list can replace the reviews list \n",
        "#for the rest of the notebook, but it takes too long to execute\n",
        "\n",
        "'''summarized = []\n",
        "\n",
        "for i in range(len(reviews)):\n",
        "    body = reviews[i]\n",
        "    bert_model = Summarizer()\n",
        "    bert_summary = ''.join(bert_model(body, min_length=60))\n",
        "    summarized.append(bert_summary)\n",
        "    \n",
        "'''"
      ]
    },
    {
      "cell_type": "code",
      "execution_count": 22,
      "id": "5d51cb9e",
      "metadata": {
        "id": "5d51cb9e"
      },
      "outputs": [],
      "source": [
        "features, targets = dataset['reviews'], dataset['ratings']\n",
        "\n",
        "train_features, test_features, train_targets, test_targets = train_test_split(\n",
        "        features, targets,\n",
        "        train_size=0.9,\n",
        "        test_size=0.1,\n",
        "        random_state=42,\n",
        "        shuffle = True,\n",
        "        stratify=targets\n",
        "    )"
      ]
    },
    {
      "cell_type": "code",
      "execution_count": 23,
      "id": "5de1ee59",
      "metadata": {
        "id": "5de1ee59"
      },
      "outputs": [],
      "source": [
        "train_text_ds_raw = tf.data.Dataset.from_tensor_slices(\n",
        "    tf.cast(train_features.values, tf.string)\n",
        ") \n",
        "\n",
        "train_cat_ds_raw = tf.data.Dataset.from_tensor_slices(\n",
        "            tf.cast(train_targets.values, tf.int64),\n",
        "\n",
        ") \n",
        "\n",
        "test_text_ds_raw = tf.data.Dataset.from_tensor_slices(\n",
        "            tf.cast(test_features.values, tf.string)\n",
        ") \n",
        "\n",
        "test_cat_ds_raw = tf.data.Dataset.from_tensor_slices(\n",
        "            tf.cast(test_targets.values, tf.int64),\n",
        "\n",
        ")"
      ]
    },
    {
      "cell_type": "code",
      "execution_count": 24,
      "id": "39915d54",
      "metadata": {
        "id": "39915d54"
      },
      "outputs": [],
      "source": [
        "MAX_LENGTH=300\n",
        "VOCAB_SIZE = 30000\n",
        "\n",
        "vectorizer = tf.keras.layers.TextVectorization(\n",
        "                max_tokens=VOCAB_SIZE,\n",
        "                output_mode=\"int\",\n",
        "                output_sequence_length=MAX_LENGTH,\n",
        "            )"
      ]
    },
    {
      "cell_type": "code",
      "execution_count": 25,
      "id": "1bc90e74",
      "metadata": {
        "colab": {
          "base_uri": "https://localhost:8080/"
        },
        "id": "1bc90e74",
        "outputId": "a12845e8-565d-4d14-d554-7540a4b4e107"
      },
      "outputs": [
        {
          "output_type": "execute_result",
          "data": {
            "text/plain": [
              "30000"
            ]
          },
          "metadata": {},
          "execution_count": 25
        }
      ],
      "source": [
        "vectorizer.adapt(train_features)\n",
        "vocab = vectorizer.get_vocabulary()\n",
        "len(vocab)"
      ]
    },
    {
      "cell_type": "code",
      "execution_count": 26,
      "id": "cc1a6c6a",
      "metadata": {
        "colab": {
          "base_uri": "https://localhost:8080/"
        },
        "id": "cc1a6c6a",
        "outputId": "7221773b-dbc5-4a01-d918-faf619ae86e0"
      },
      "outputs": [
        {
          "output_type": "execute_result",
          "data": {
            "text/plain": [
              "TensorSpec(shape=(), dtype=tf.string, name=None)"
            ]
          },
          "metadata": {},
          "execution_count": 26
        }
      ],
      "source": [
        "train_text_ds_raw.element_spec"
      ]
    },
    {
      "cell_type": "code",
      "execution_count": 27,
      "id": "43e3ea4a",
      "metadata": {
        "id": "43e3ea4a"
      },
      "outputs": [],
      "source": [
        "def convert_text_input(sample):\n",
        "    text = sample\n",
        "    text = tf.expand_dims(text, -1) \n",
        "    return tf.squeeze(vectorizer(text))"
      ]
    },
    {
      "cell_type": "code",
      "execution_count": 28,
      "id": "f19794f2",
      "metadata": {
        "id": "f19794f2"
      },
      "outputs": [],
      "source": [
        "train_text_ds = train_text_ds_raw.map(convert_text_input, num_parallel_calls=tf.data.experimental.AUTOTUNE)\n",
        "test_text_ds = test_text_ds_raw.map(convert_text_input, num_parallel_calls=tf.data.experimental.AUTOTUNE)"
      ]
    },
    {
      "cell_type": "code",
      "execution_count": 29,
      "id": "1a65b10a",
      "metadata": {
        "colab": {
          "base_uri": "https://localhost:8080/"
        },
        "id": "1a65b10a",
        "outputId": "911353c3-f2c2-41f4-8f3d-c54a325a5c3e"
      },
      "outputs": [
        {
          "output_type": "execute_result",
          "data": {
            "text/plain": [
              "TensorSpec(shape=<unknown>, dtype=tf.int64, name=None)"
            ]
          },
          "metadata": {},
          "execution_count": 29
        }
      ],
      "source": [
        "train_text_ds.element_spec"
      ]
    },
    {
      "cell_type": "code",
      "execution_count": 30,
      "id": "e1d79c17",
      "metadata": {
        "colab": {
          "base_uri": "https://localhost:8080/"
        },
        "id": "e1d79c17",
        "outputId": "14ea7a2e-da5e-45c1-903b-007490553f6c"
      },
      "outputs": [
        {
          "output_type": "stream",
          "name": "stdout",
          "text": [
            "tf.Tensor(\n",
            "[  182  1015   359 23191   182     1  1015    32   556     8    10  1144\n",
            "     1    90    10    27   182    82     4    60    21     6  1485     6\n",
            "    51    22 23191    11     8    44    42   666  1596   603    90    10\n",
            "   182     0     0     0     0     0     0     0     0     0     0     0\n",
            "     0     0     0     0     0     0     0     0     0     0     0     0\n",
            "     0     0     0     0     0     0     0     0     0     0     0     0\n",
            "     0     0     0     0     0     0     0     0     0     0     0     0\n",
            "     0     0     0     0     0     0     0     0     0     0     0     0\n",
            "     0     0     0     0     0     0     0     0     0     0     0     0\n",
            "     0     0     0     0     0     0     0     0     0     0     0     0\n",
            "     0     0     0     0     0     0     0     0     0     0     0     0\n",
            "     0     0     0     0     0     0     0     0     0     0     0     0\n",
            "     0     0     0     0     0     0     0     0     0     0     0     0\n",
            "     0     0     0     0     0     0     0     0     0     0     0     0\n",
            "     0     0     0     0     0     0     0     0     0     0     0     0\n",
            "     0     0     0     0     0     0     0     0     0     0     0     0\n",
            "     0     0     0     0     0     0     0     0     0     0     0     0\n",
            "     0     0     0     0     0     0     0     0     0     0     0     0\n",
            "     0     0     0     0     0     0     0     0     0     0     0     0\n",
            "     0     0     0     0     0     0     0     0     0     0     0     0\n",
            "     0     0     0     0     0     0     0     0     0     0     0     0\n",
            "     0     0     0     0     0     0     0     0     0     0     0     0\n",
            "     0     0     0     0     0     0     0     0     0     0     0     0\n",
            "     0     0     0     0     0     0     0     0     0     0     0     0\n",
            "     0     0     0     0     0     0     0     0     0     0     0     0], shape=(300,), dtype=int64)\n"
          ]
        }
      ],
      "source": [
        "for each in train_text_ds.take(1):\n",
        "    print(each)"
      ]
    },
    {
      "cell_type": "code",
      "execution_count": 31,
      "id": "4b0c7408",
      "metadata": {
        "id": "4b0c7408"
      },
      "outputs": [],
      "source": [
        "train_ds = tf.data.Dataset.zip((train_text_ds, train_cat_ds_raw))"
      ]
    },
    {
      "cell_type": "code",
      "execution_count": 32,
      "id": "a005ba02",
      "metadata": {
        "id": "a005ba02"
      },
      "outputs": [],
      "source": [
        "test_ds = tf.data.Dataset.zip((test_text_ds, test_cat_ds_raw))"
      ]
    },
    {
      "cell_type": "code",
      "execution_count": 33,
      "id": "49add6b0",
      "metadata": {
        "id": "49add6b0"
      },
      "outputs": [],
      "source": [
        "BATCH_SIZE = 64\n",
        "AUTOTUNE = tf.data.experimental.AUTOTUNE\n",
        "BUFFER_SIZE = train_ds.cardinality().numpy()\n",
        "\n",
        "train_ds = train_ds.shuffle(buffer_size=BUFFER_SIZE)\\\n",
        "                   .batch(batch_size=BATCH_SIZE,drop_remainder=True)\\\n",
        "                   .cache()\\\n",
        "                   .prefetch(AUTOTUNE)\n",
        "\n",
        "test_ds = test_ds.shuffle(buffer_size=BUFFER_SIZE)\\\n",
        "                   .batch(batch_size=BATCH_SIZE,drop_remainder=True)\\\n",
        "                   .cache()\\\n",
        "                   .prefetch(AUTOTUNE)"
      ]
    },
    {
      "cell_type": "code",
      "execution_count": 34,
      "id": "3c9eed84",
      "metadata": {
        "colab": {
          "base_uri": "https://localhost:8080/"
        },
        "id": "3c9eed84",
        "outputId": "377c61d1-a507-4200-f352-f461fa5ca99a"
      },
      "outputs": [
        {
          "output_type": "stream",
          "name": "stdout",
          "text": [
            "Model: \"model\"\n",
            "_________________________________________________________________\n",
            " Layer (type)                Output Shape              Param #   \n",
            "=================================================================\n",
            " input_1 (InputLayer)        [(None, 300)]             0         \n",
            "                                                                 \n",
            " embedding (Embedding)       (None, 300, 256)          7680000   \n",
            "                                                                 \n",
            " flatten (Flatten)           (None, 76800)             0         \n",
            "                                                                 \n",
            " dense (Dense)               (None, 64)                4915264   \n",
            "                                                                 \n",
            " dropout (Dropout)           (None, 64)                0         \n",
            "                                                                 \n",
            " dense_1 (Dense)             (None, 2)                 130       \n",
            "                                                                 \n",
            "=================================================================\n",
            "Total params: 12,595,394\n",
            "Trainable params: 12,595,394\n",
            "Non-trainable params: 0\n",
            "_________________________________________________________________\n"
          ]
        }
      ],
      "source": [
        "def create_model():\n",
        "    inputs = layers.Input(shape=(MAX_LENGTH,), dtype=tf.int32)\n",
        "    embedding_layer = layers.Embedding(VOCAB_SIZE, 256)\n",
        "    x = embedding_layer(inputs)\n",
        "    x = layers.Flatten()(x)\n",
        "    x = layers.Dense(64, activation='relu')(x)\n",
        "    x = layers.Dropout(0.5)(x)\n",
        "    outputs = layers.Dense(2, activation='softmax')(x)\n",
        "    model = keras.Model(inputs=inputs, outputs=outputs)\n",
        "    model.compile(optimizer=keras.optimizers.Adam(learning_rate=0.001), \n",
        "                  loss='sparse_categorical_crossentropy', \n",
        "                  metrics=['Accuracy'])  \n",
        "    return model\n",
        "\n",
        "\n",
        "my_model=create_model()\n",
        "my_model.summary()"
      ]
    },
    {
      "cell_type": "code",
      "execution_count": 35,
      "id": "ce865d8e",
      "metadata": {
        "id": "ce865d8e"
      },
      "outputs": [],
      "source": [
        "callbacks = [keras.callbacks.ModelCheckpoint('amazon1.keras', save_best_only=True),\n",
        "             keras.callbacks.EarlyStopping(patience=5)]"
      ]
    },
    {
      "cell_type": "code",
      "execution_count": 36,
      "id": "64ecea6a",
      "metadata": {
        "colab": {
          "base_uri": "https://localhost:8080/"
        },
        "id": "64ecea6a",
        "outputId": "0b112ef7-ce6c-416e-ea07-a2efe7341c3b"
      },
      "outputs": [
        {
          "output_type": "stream",
          "name": "stdout",
          "text": [
            "Epoch 1/25\n",
            "5062/5062 [==============================] - 78s 10ms/step - loss: 0.2657 - Accuracy: 0.8885 - val_loss: 0.2179 - val_Accuracy: 0.9138\n",
            "Epoch 2/25\n",
            "5062/5062 [==============================] - 44s 9ms/step - loss: 0.1548 - Accuracy: 0.9399 - val_loss: 0.2601 - val_Accuracy: 0.9079\n",
            "Epoch 3/25\n",
            "5062/5062 [==============================] - 44s 9ms/step - loss: 0.0645 - Accuracy: 0.9762 - val_loss: 0.4095 - val_Accuracy: 0.8996\n",
            "Epoch 4/25\n",
            "5062/5062 [==============================] - 52s 10ms/step - loss: 0.0315 - Accuracy: 0.9888 - val_loss: 0.5901 - val_Accuracy: 0.8949\n",
            "Epoch 5/25\n",
            "5062/5062 [==============================] - 45s 9ms/step - loss: 0.0219 - Accuracy: 0.9925 - val_loss: 0.7207 - val_Accuracy: 0.8959\n",
            "Epoch 6/25\n",
            "5062/5062 [==============================] - 45s 9ms/step - loss: 0.0160 - Accuracy: 0.9945 - val_loss: 0.8302 - val_Accuracy: 0.8932\n"
          ]
        }
      ],
      "source": [
        "history = my_model.fit(train_ds, epochs=25, callbacks=callbacks, validation_data=test_ds)"
      ]
    },
    {
      "cell_type": "code",
      "execution_count": 37,
      "id": "ed289a14",
      "metadata": {
        "colab": {
          "base_uri": "https://localhost:8080/",
          "height": 295
        },
        "id": "ed289a14",
        "outputId": "2a8ad8b0-e4f5-4bad-e17f-8fb08837a656"
      },
      "outputs": [
        {
          "output_type": "display_data",
          "data": {
            "text/plain": [
              "<Figure size 432x288 with 1 Axes>"
            ],
            "image/png": "[encoded data removed]"
          },
          "metadata": {
            "needs_background": "light"
          }
        }
      ],
      "source": [
        "plt.plot(history.history['Accuracy'])\n",
        "plt.plot(history.history['val_Accuracy'])\n",
        "plt.show()"
      ]
    },
    {
      "cell_type": "code",
      "execution_count": 38,
      "id": "6e6cd525",
      "metadata": {
        "colab": {
          "base_uri": "https://localhost:8080/"
        },
        "id": "6e6cd525",
        "outputId": "6d6d66e5-4be6-4e1f-b60c-9c3454922d56"
      },
      "outputs": [
        {
          "output_type": "stream",
          "name": "stdout",
          "text": [
            "562/562 [==============================] - 1s 2ms/step - loss: 0.8302 - Accuracy: 0.8932\n",
            "Train accuracy:  0.8932106494903564\n"
          ]
        }
      ],
      "source": [
        "loss, accuracy = my_model.evaluate(test_ds)\n",
        "print(\"Train accuracy: \", accuracy)"
      ]
    },
    {
      "cell_type": "code",
      "execution_count": 39,
      "id": "2b50021f",
      "metadata": {
        "id": "2b50021f"
      },
      "outputs": [],
      "source": [
        "my_model = keras.models.load_model('amazon1.keras')"
      ]
    },
    {
      "cell_type": "code",
      "execution_count": 40,
      "id": "e0dc8a28",
      "metadata": {
        "colab": {
          "base_uri": "https://localhost:8080/"
        },
        "id": "e0dc8a28",
        "outputId": "c832fe33-8e78-4244-fa8c-40b55f2d9f96"
      },
      "outputs": [
        {
          "output_type": "stream",
          "name": "stdout",
          "text": [
            "Model: \"model_1\"\n",
            "_________________________________________________________________\n",
            " Layer (type)                Output Shape              Param #   \n",
            "=================================================================\n",
            " input_2 (InputLayer)        [(None, 1)]               0         \n",
            "                                                                 \n",
            " text_vectorization (TextVec  (None, 300)              0         \n",
            " torization)                                                     \n",
            "                                                                 \n",
            " model (Functional)          (None, 2)                 12595394  \n",
            "                                                                 \n",
            "=================================================================\n",
            "Total params: 12,595,394\n",
            "Trainable params: 12,595,394\n",
            "Non-trainable params: 0\n",
            "_________________________________________________________________\n"
          ]
        }
      ],
      "source": [
        "inputs = keras.Input(shape=(1,), dtype='string')\n",
        "x = vectorizer(inputs)\n",
        "outputs = my_model(x)\n",
        "end_to_end_model = keras.Model(inputs, outputs)\n",
        "end_to_end_model.compile(loss='sparse_categorical_crossentropy', optimizer=\"adam\", metrics=['accuracy'])\n",
        "end_to_end_model.summary()"
      ]
    },
    {
      "cell_type": "code",
      "execution_count": 41,
      "id": "49ccf147",
      "metadata": {
        "colab": {
          "base_uri": "https://localhost:8080/"
        },
        "id": "49ccf147",
        "outputId": "bdc2c560-5559-45b6-f1b8-fb15d44e0b6c"
      },
      "outputs": [
        {
          "output_type": "execute_result",
          "data": {
            "text/plain": [
              "str"
            ]
          },
          "metadata": {},
          "execution_count": 41
        }
      ],
      "source": [
        "test_review = \"this is incredible awesome loved it\"\n",
        "type(test_review)"
      ]
    },
    {
      "cell_type": "code",
      "execution_count": 44,
      "id": "963cbe93",
      "metadata": {
        "colab": {
          "base_uri": "https://localhost:8080/"
        },
        "id": "963cbe93",
        "outputId": "92a45090-9fde-4821-f0c3-119ad0c8fc8e"
      },
      "outputs": [
        {
          "output_type": "stream",
          "name": "stdout",
          "text": [
            "1\n"
          ]
        }
      ],
      "source": [
        "pred = end_to_end_model.predict([test_review])\n",
        "print(np.argmax(pred[0]))"
      ]
    },
    {
      "cell_type": "code",
      "source": [
        "pred"
      ],
      "metadata": {
        "colab": {
          "base_uri": "https://localhost:8080/"
        },
        "id": "rK8mK7MUs4fQ",
        "outputId": "f212fc82-bd77-4c24-c433-71b85a164896"
      },
      "id": "rK8mK7MUs4fQ",
      "execution_count": 46,
      "outputs": [
        {
          "output_type": "execute_result",
          "data": {
            "text/plain": [
              "array([[0.00143103, 0.9985689 ]], dtype=float32)"
            ]
          },
          "metadata": {},
          "execution_count": 46
        }
      ]
    },
    {
      "cell_type": "code",
      "execution_count": 45,
      "id": "7ff6e577",
      "metadata": {
        "colab": {
          "base_uri": "https://localhost:8080/"
        },
        "id": "7ff6e577",
        "outputId": "8da3f1b8-85ae-4a0b-826e-65a255e4853f"
      },
      "outputs": [
        {
          "output_type": "stream",
          "name": "stdout",
          "text": [
            "1125/1125 [==============================] - 4s 4ms/step - loss: 0.2179 - accuracy: 0.9139\n",
            "end_to_end_model accuracy:  0.913861095905304\n"
          ]
        }
      ],
      "source": [
        "loss, accuracy = end_to_end_model.evaluate(test_features,test_targets)\n",
        "print(\"end_to_end_model accuracy: \", accuracy)"
      ]
    }
  ],
  "metadata": {
    "kernelspec": {
      "display_name": "Python 3 (ipykernel)",
      "language": "python",
      "name": "python3"
    },
    "language_info": {
      "codemirror_mode": {
        "name": "ipython",
        "version": 3
      },
      "file_extension": ".py",
      "mimetype": "text/x-python",
      "name": "python",
      "nbconvert_exporter": "python",
      "pygments_lexer": "ipython3",
      "version": "3.8.13"
    },
    "colab": {
      "name": "amazon-sentiment-analysis.ipynb",
      "provenance": [],
      "collapsed_sections": []
    },
    "accelerator": "GPU",
    "gpuClass": "standard"
  },
  "nbformat": 4,
  "nbformat_minor": 5
}